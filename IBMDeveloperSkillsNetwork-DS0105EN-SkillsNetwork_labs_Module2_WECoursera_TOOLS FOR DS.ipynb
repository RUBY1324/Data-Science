{
  "cells": [
    {
      "attachments": {},
      "cell_type": "markdown",
      "metadata": {},
      "source": [
        "## My Jupyter Notebook on IBM Watson Studio"
      ]
    },
    {
      "attachments": {},
      "cell_type": "markdown",
      "metadata": {},
      "source": [
        "**Ruby Mohan**"
      ]
    },
    {
      "cell_type": "markdown",
      "metadata": {},
      "source": [
        "Civil Engineer"
      ]
    },
    {
      "attachments": {},
      "cell_type": "markdown",
      "metadata": {},
      "source": [
        "*I am intrested in Data Science because it can be helpful in designing and construction stage to faster completion of projects.*"
      ]
    },
    {
      "cell_type": "markdown",
      "metadata": {},
      "source": [
        "The Following Code will Display today's time and date"
      ]
    },
    {
      "cell_type": "code",
      "execution_count": 1,
      "metadata": {
        "trusted": true
      },
      "outputs": [
        {
          "name": "stdout",
          "output_type": "stream",
          "text": [
            "Today's Date and Time is  2023-02-06 12:48:49.814000\n"
          ]
        }
      ],
      "source": [
        "import datetime \n",
        "message = \"Today's Date and Time is \" \n",
        "print (message , datetime.datetime.now() )"
      ]
    },
    {
      "attachments": {},
      "cell_type": "markdown",
      "metadata": {},
      "source": [
        "~~My favourite Fruits\n",
        "Apple\n",
        "Banana\n",
        "Orange\n",
        "Mango\n",
        "Grapes~~"
      ]
    },
    {
      "cell_type": "code",
      "execution_count": null,
      "metadata": {},
      "outputs": [],
      "source": []
    }
  ],
  "metadata": {
    "kernelspec": {
      "display_name": "Pyolite",
      "language": "python",
      "name": "python"
    },
    "language_info": {
      "codemirror_mode": {
        "name": "python",
        "version": 3
      },
      "file_extension": ".py",
      "mimetype": "text/x-python",
      "name": "python",
      "nbconvert_exporter": "python",
      "pygments_lexer": "ipython3",
      "version": "3.8"
    }
  },
  "nbformat": 4,
  "nbformat_minor": 4
}
