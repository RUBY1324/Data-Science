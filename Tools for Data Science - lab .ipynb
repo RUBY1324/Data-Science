{
  "metadata": {
    "language_info": {
      "codemirror_mode": {
        "name": "python",
        "version": 3
      },
      "file_extension": ".py",
      "mimetype": "text/x-python",
      "name": "python",
      "nbconvert_exporter": "python",
      "pygments_lexer": "ipython3",
      "version": "3.8"
    },
    "kernelspec": {
      "name": "python",
      "display_name": "Pyolite",
      "language": "python"
    }
  },
  "nbformat_minor": 4,
  "nbformat": 4,
  "cells": [
    {
      "cell_type": "markdown",
      "source": "My Jupyter Notebook on Watson Studio",
      "metadata": {}
    },
    {
      "cell_type": "markdown",
      "source": "Ruby Mohan",
      "metadata": {}
    },
    {
      "cell_type": "markdown",
      "source": "I am a civil engineer and i want to gain insights from data to build better, faster and adaptable model",
      "metadata": {}
    },
    {
      "cell_type": "code",
      "source": "import datetime \nmessage = \"Today's Date and Time is \" \nprint (message , datetime.datetime.now() )",
      "metadata": {
        "trusted": true
      },
      "execution_count": 2,
      "outputs": [
        {
          "name": "stdout",
          "text": "Today's Date and Time is  2023-02-05 20:09:04.865000\n",
          "output_type": "stream"
        }
      ]
    },
    {
      "cell_type": "code",
      "source": "",
      "metadata": {},
      "execution_count": null,
      "outputs": []
    }
  ]
}